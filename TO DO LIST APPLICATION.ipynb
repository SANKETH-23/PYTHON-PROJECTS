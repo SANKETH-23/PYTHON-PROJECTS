{
 "cells": [
  {
   "cell_type": "code",
   "execution_count": null,
   "id": "9f7502d2-b4da-4fb2-809e-87c58ed67d9b",
   "metadata": {},
   "outputs": [
    {
     "name": "stdout",
     "output_type": "stream",
     "text": [
      "\n",
      "===== To-Do List =====\n",
      "1. Add Task\n",
      "2. Show Tasks\n",
      "3. Mark Task as Done\n",
      "4. Exit\n"
     ]
    },
    {
     "name": "stdin",
     "output_type": "stream",
     "text": [
      "Enter your choice:  1\n"
     ]
    },
    {
     "name": "stdout",
     "output_type": "stream",
     "text": [
      "\n"
     ]
    },
    {
     "name": "stdin",
     "output_type": "stream",
     "text": [
      "How many task you want to add:  3\n",
      "Enter the task:  sleep\n"
     ]
    },
    {
     "name": "stdout",
     "output_type": "stream",
     "text": [
      "Task added!\n"
     ]
    },
    {
     "name": "stdin",
     "output_type": "stream",
     "text": [
      "Enter the task:  gym\n"
     ]
    },
    {
     "name": "stdout",
     "output_type": "stream",
     "text": [
      "Task added!\n"
     ]
    },
    {
     "name": "stdin",
     "output_type": "stream",
     "text": [
      "Enter the task:  eat\n"
     ]
    },
    {
     "name": "stdout",
     "output_type": "stream",
     "text": [
      "Task added!\n",
      "\n",
      "===== To-Do List =====\n",
      "1. Add Task\n",
      "2. Show Tasks\n",
      "3. Mark Task as Done\n",
      "4. Exit\n"
     ]
    },
    {
     "name": "stdin",
     "output_type": "stream",
     "text": [
      "Enter your choice:  2\n"
     ]
    },
    {
     "name": "stdout",
     "output_type": "stream",
     "text": [
      "\n",
      "Tasks:\n",
      "1. sleep - Not Done\n",
      "2. gym - Not Done\n",
      "3. eat - Not Done\n",
      "\n",
      "===== To-Do List =====\n",
      "1. Add Task\n",
      "2. Show Tasks\n",
      "3. Mark Task as Done\n",
      "4. Exit\n"
     ]
    },
    {
     "name": "stdin",
     "output_type": "stream",
     "text": [
      "Enter your choice:  2\n"
     ]
    },
    {
     "name": "stdout",
     "output_type": "stream",
     "text": [
      "\n",
      "Tasks:\n",
      "1. sleep - Not Done\n",
      "2. gym - Not Done\n",
      "3. eat - Not Done\n",
      "\n",
      "===== To-Do List =====\n",
      "1. Add Task\n",
      "2. Show Tasks\n",
      "3. Mark Task as Done\n",
      "4. Exit\n"
     ]
    },
    {
     "name": "stdin",
     "output_type": "stream",
     "text": [
      "Enter your choice:  3\n",
      "Enter the task number to mark as done:  1\n"
     ]
    },
    {
     "name": "stdout",
     "output_type": "stream",
     "text": [
      "Task marked as done!\n",
      "\n",
      "===== To-Do List =====\n",
      "1. Add Task\n",
      "2. Show Tasks\n",
      "3. Mark Task as Done\n",
      "4. Exit\n"
     ]
    },
    {
     "name": "stdin",
     "output_type": "stream",
     "text": [
      "Enter your choice:  3\n",
      "Enter the task number to mark as done:  2\n"
     ]
    },
    {
     "name": "stdout",
     "output_type": "stream",
     "text": [
      "Task marked as done!\n",
      "\n",
      "===== To-Do List =====\n",
      "1. Add Task\n",
      "2. Show Tasks\n",
      "3. Mark Task as Done\n",
      "4. Exit\n"
     ]
    },
    {
     "name": "stdin",
     "output_type": "stream",
     "text": [
      "Enter your choice:  3\n",
      "Enter the task number to mark as done:  3\n"
     ]
    },
    {
     "name": "stdout",
     "output_type": "stream",
     "text": [
      "Task marked as done!\n",
      "\n",
      "===== To-Do List =====\n",
      "1. Add Task\n",
      "2. Show Tasks\n",
      "3. Mark Task as Done\n",
      "4. Exit\n"
     ]
    },
    {
     "name": "stdin",
     "output_type": "stream",
     "text": [
      "Enter your choice:  2\n"
     ]
    },
    {
     "name": "stdout",
     "output_type": "stream",
     "text": [
      "\n",
      "Tasks:\n",
      "1. sleep - Done\n",
      "2. gym - Done\n",
      "3. eat - Done\n",
      "\n",
      "===== To-Do List =====\n",
      "1. Add Task\n",
      "2. Show Tasks\n",
      "3. Mark Task as Done\n",
      "4. Exit\n"
     ]
    }
   ],
   "source": [
    "def main():\n",
    "    tasks = []\n",
    "\n",
    "    while True:\n",
    "        print(\"\\n===== To-Do List =====\")\n",
    "        print(\"1. Add Task\")\n",
    "        print(\"2. Show Tasks\")\n",
    "        print(\"3. Mark Task as Done\")\n",
    "        print(\"4. Exit\")\n",
    "\n",
    "        choice = input(\"Enter your choice: \")\n",
    "\n",
    "        if choice == '1':\n",
    "            print()\n",
    "            n_tasks = int(input(\"How many task you want to add: \"))\n",
    "            \n",
    "            for i in range(n_tasks):\n",
    "                task = input(\"Enter the task: \")\n",
    "                tasks.append({\"task\": task, \"done\": False})\n",
    "                print(\"Task added!\")\n",
    "\n",
    "        elif choice == '2':\n",
    "            print(\"\\nTasks:\")\n",
    "            for index, task in enumerate(tasks):\n",
    "                status = \"Done\" if task[\"done\"] else \"Not Done\"\n",
    "                print(f\"{index + 1}. {task['task']} - {status}\")\n",
    "\n",
    "        elif choice == '3':\n",
    "            task_index = int(input(\"Enter the task number to mark as done: \")) - 1\n",
    "            if 0 <= task_index < len(tasks):\n",
    "                tasks[task_index][\"done\"] = True\n",
    "                print(\"Task marked as done!\")\n",
    "            else:\n",
    "                print(\"Invalid task number.\")\n",
    "\n",
    "        elif choice == '4':\n",
    "            print(\"Exiting the To-Do List.\")\n",
    "            break\n",
    "\n",
    "        else:\n",
    "            print(\"Invalid choice. Please try again.\")\n",
    "\n",
    "if __name__ == \"__main__\":\n",
    "    main()"
   ]
  },
  {
   "cell_type": "code",
   "execution_count": null,
   "id": "7f8ba9df-f131-4b5c-abd3-5ffa7fb9fa61",
   "metadata": {},
   "outputs": [],
   "source": []
  }
 ],
 "metadata": {
  "kernelspec": {
   "display_name": "Python 3 (ipykernel)",
   "language": "python",
   "name": "python3"
  },
  "language_info": {
   "codemirror_mode": {
    "name": "ipython",
    "version": 3
   },
   "file_extension": ".py",
   "mimetype": "text/x-python",
   "name": "python",
   "nbconvert_exporter": "python",
   "pygments_lexer": "ipython3",
   "version": "3.12.4"
  }
 },
 "nbformat": 4,
 "nbformat_minor": 5
}
